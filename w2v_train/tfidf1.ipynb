{
 "cells": [
  {
   "cell_type": "code",
   "execution_count": 1,
   "metadata": {
    "scrolled": true
   },
   "outputs": [
    {
     "name": "stderr",
     "output_type": "stream",
     "text": [
      "/home/zixi/anaconda3/lib/python3.7/site-packages/sklearn/externals/joblib/__init__.py:15: DeprecationWarning: sklearn.externals.joblib is deprecated in 0.21 and will be removed in 0.23. Please import this functionality directly from joblib, which can be installed with: pip install joblib. If this warning is raised when loading pickled models, you may need to re-serialize those models with scikit-learn 0.21+.\n",
      "  warnings.warn(msg, category=DeprecationWarning)\n"
     ]
    }
   ],
   "source": [
    "import pandas as pd\n",
    "from sklearn.feature_extraction.text import TfidfVectorizer, CountVectorizer\n",
    "from matplotlib import pyplot as plt\n",
    "from sklearn.metrics import f1_score\n",
    "from sklearn import linear_model\n",
    "from sklearn.metrics import confusion_matrix\n",
    "import numpy as np\n",
    "from sklearn.externals import joblib\n",
    "#import warnings\n",
    "#warnings.filterwarnings(\"ignore\")\n",
    "df_train = pd.read_csv('../input/train.csv')\n",
    "df_y_train = pd.read_csv('../input/y_train.csv')\n",
    "df_val = pd.read_csv('../input/val.csv')\n",
    "df_y_val = pd.read_csv('../input/y_val.csv')\n",
    "train = df_train['review'].to_numpy()\n",
    "y_train = df_y_train['rate'].to_numpy()\n",
    "val = df_val['review'].to_numpy()\n",
    "y_val = df_y_val['rate'].to_numpy()\n",
    "\n",
    "# the data set is merge here for crossvalidation in the Bayesian Inference analysis. \n",
    "'''\n",
    "train_total = pd.DataFrame({'review':train.tolist()+val.tolist()})\n",
    "train_y_total = pd.DataFrame({'rate':y_train.tolist()+y_val.tolist()})\n",
    "train_total.to_csv('../input/train_total.csv')\n",
    "train_y_total.to_csv('../input/train_y_total.csv')\n",
    "'''\n",
    "\n",
    "vectorizer = TfidfVectorizer(stop_words='english',use_idf=True)\n",
    "model_tr = vectorizer.fit_transform(train)\n",
    "model_val = vectorizer.transform(val)"
   ]
  },
  {
   "cell_type": "code",
   "execution_count": 14,
   "metadata": {
    "scrolled": true
   },
   "outputs": [
    {
     "name": "stdout",
     "output_type": "stream",
     "text": [
      "(22159, 3192)\n"
     ]
    }
   ],
   "source": [
    "from sklearn.decomposition import PCA\n",
    "#from sklearn.preprocessing import normalize\n",
    "#model_tr_normalize = normalize(model_tr, norm='l2', axis=0, copy=True, return_norm=False)\n",
    "pca = PCA(n_components = 0.95)\n",
    "pca.fit(model_tr.toarray())\n",
    "reduced = pca.transform(model_tr.toarray())\n",
    "print(reduced.shape)"
   ]
  },
  {
   "cell_type": "code",
   "execution_count": 2,
   "metadata": {},
   "outputs": [],
   "source": [
    "from sklearn.decomposition import PCA\n",
    "model_tr1 = model_tr\n",
    "model_val1 = model_val\n",
    "#pca = joblib.load('../input/model/pca.pkl')\n",
    "model_val = pca.transform(model_val.toarray())\n",
    "model_tr = pca.transform(model_tr.toarray())\n"
   ]
  },
  {
   "cell_type": "code",
   "execution_count": 5,
   "metadata": {
    "collapsed": true
   },
   "outputs": [
    {
     "name": "stdout",
     "output_type": "stream",
     "text": [
      "Val macro score is 0.16284246575342465\n",
      "Val macro score is 0.16284246575342465\n",
      "Val macro score is 0.16284246575342465\n",
      "Val macro score is 0.164455211614093\n",
      "Val macro score is 0.1657112828076619\n",
      "Val macro score is 0.17570742777341367\n",
      "Val macro score is 0.19491367167594104\n",
      "Val macro score is 0.20174409813477032\n",
      "Val macro score is 0.22126528128546624\n",
      "Val macro score is 0.22586154987080748\n",
      "Val macro score is 0.24070227088220175\n",
      "Val macro score is 0.2554064920128435\n",
      "Val macro score is 0.26751713162752155\n",
      "Val macro score is 0.27210590605754337\n",
      "Val macro score is 0.28738143931693544\n",
      "Val macro score is 0.29713566882520426\n",
      "Val macro score is 0.305405194853131\n",
      "Val macro score is 0.3127471027167378\n",
      "Val macro score is 0.32404309743892934\n",
      "Val macro score is 0.32651390324407936\n",
      "Val macro score is 0.3285874760354234\n",
      "Val macro score is 0.33521921239368113\n",
      "Val macro score is 0.34103968228517645\n",
      "Val macro score is 0.3476187047108586\n",
      "Val macro score is 0.35525953334736504\n",
      "Val macro score is 0.3529957679279379\n",
      "Val macro score is 0.35355780608747744\n",
      "Val macro score is 0.3526645528782607\n",
      "Val macro score is 0.34741910771101175\n",
      "Val macro score is 0.34758849315327744\n",
      "Val macro score is 0.34775684266962326\n",
      "Val macro score is 0.34631747145140246\n",
      "Val macro score is 0.34323032167766127\n",
      "Val macro score is 0.34431101173087425\n",
      "Val macro score is 0.34144027627758267\n",
      "Val macro score is 0.33178046776425624\n",
      "Val macro score is 0.33379171051011625\n",
      "Val macro score is 0.32671853662894196\n",
      "Val macro score is 0.32435899864265894\n"
     ]
    },
    {
     "ename": "KeyboardInterrupt",
     "evalue": "",
     "output_type": "error",
     "traceback": [
      "\u001b[0;31m---------------------------------------------------------------------------\u001b[0m",
      "\u001b[0;31mKeyboardInterrupt\u001b[0m                         Traceback (most recent call last)",
      "\u001b[0;32m<ipython-input-5-984b67626d90>\u001b[0m in \u001b[0;36m<module>\u001b[0;34m\u001b[0m\n\u001b[1;32m     14\u001b[0m \u001b[0mval_score\u001b[0m \u001b[0;34m=\u001b[0m \u001b[0;34m[\u001b[0m\u001b[0;34m]\u001b[0m\u001b[0;34m\u001b[0m\u001b[0;34m\u001b[0m\u001b[0m\n\u001b[1;32m     15\u001b[0m \u001b[0;32mfor\u001b[0m \u001b[0mi\u001b[0m \u001b[0;32min\u001b[0m \u001b[0mC\u001b[0m\u001b[0;34m:\u001b[0m\u001b[0;34m\u001b[0m\u001b[0;34m\u001b[0m\u001b[0m\n\u001b[0;32m---> 16\u001b[0;31m     \u001b[0mm\u001b[0m \u001b[0;34m=\u001b[0m \u001b[0mLogisticRegression\u001b[0m\u001b[0;34m(\u001b[0m\u001b[0mpenalty\u001b[0m\u001b[0;34m=\u001b[0m\u001b[0;34m'l1'\u001b[0m\u001b[0;34m,\u001b[0m\u001b[0mC\u001b[0m\u001b[0;34m=\u001b[0m\u001b[0mi\u001b[0m\u001b[0;34m,\u001b[0m\u001b[0mclass_weight\u001b[0m\u001b[0;34m=\u001b[0m\u001b[0;34m'balanced'\u001b[0m\u001b[0;34m)\u001b[0m\u001b[0;34m.\u001b[0m\u001b[0mfit\u001b[0m\u001b[0;34m(\u001b[0m\u001b[0mmodel_tr\u001b[0m\u001b[0;34m,\u001b[0m \u001b[0my_train\u001b[0m\u001b[0;34m)\u001b[0m\u001b[0;34m\u001b[0m\u001b[0;34m\u001b[0m\u001b[0m\n\u001b[0m\u001b[1;32m     17\u001b[0m     \u001b[0ms\u001b[0m \u001b[0;34m=\u001b[0m \u001b[0mf1_score\u001b[0m\u001b[0;34m(\u001b[0m\u001b[0my_val\u001b[0m\u001b[0;34m,\u001b[0m \u001b[0mm\u001b[0m\u001b[0;34m.\u001b[0m\u001b[0mpredict\u001b[0m\u001b[0;34m(\u001b[0m\u001b[0mmodel_val\u001b[0m\u001b[0;34m)\u001b[0m\u001b[0;34m,\u001b[0m \u001b[0maverage\u001b[0m\u001b[0;34m=\u001b[0m\u001b[0;34m'macro'\u001b[0m\u001b[0;34m)\u001b[0m\u001b[0;34m\u001b[0m\u001b[0;34m\u001b[0m\u001b[0m\n\u001b[1;32m     18\u001b[0m     \u001b[0mtrain_score\u001b[0m\u001b[0;34m.\u001b[0m\u001b[0mappend\u001b[0m\u001b[0;34m(\u001b[0m\u001b[0mf1_score\u001b[0m\u001b[0;34m(\u001b[0m\u001b[0my_train\u001b[0m\u001b[0;34m,\u001b[0m \u001b[0mm\u001b[0m\u001b[0;34m.\u001b[0m\u001b[0mpredict\u001b[0m\u001b[0;34m(\u001b[0m\u001b[0mmodel_tr\u001b[0m\u001b[0;34m)\u001b[0m\u001b[0;34m,\u001b[0m \u001b[0maverage\u001b[0m\u001b[0;34m=\u001b[0m\u001b[0;34m'macro'\u001b[0m\u001b[0;34m)\u001b[0m\u001b[0;34m)\u001b[0m\u001b[0;34m\u001b[0m\u001b[0;34m\u001b[0m\u001b[0m\n",
      "\u001b[0;32m~/anaconda3/lib/python3.7/site-packages/sklearn/linear_model/logistic.py\u001b[0m in \u001b[0;36mfit\u001b[0;34m(self, X, y, sample_weight)\u001b[0m\n\u001b[1;32m   1547\u001b[0m                 \u001b[0mself\u001b[0m\u001b[0;34m.\u001b[0m\u001b[0mclass_weight\u001b[0m\u001b[0;34m,\u001b[0m \u001b[0mself\u001b[0m\u001b[0;34m.\u001b[0m\u001b[0mpenalty\u001b[0m\u001b[0;34m,\u001b[0m \u001b[0mself\u001b[0m\u001b[0;34m.\u001b[0m\u001b[0mdual\u001b[0m\u001b[0;34m,\u001b[0m \u001b[0mself\u001b[0m\u001b[0;34m.\u001b[0m\u001b[0mverbose\u001b[0m\u001b[0;34m,\u001b[0m\u001b[0;34m\u001b[0m\u001b[0;34m\u001b[0m\u001b[0m\n\u001b[1;32m   1548\u001b[0m                 \u001b[0mself\u001b[0m\u001b[0;34m.\u001b[0m\u001b[0mmax_iter\u001b[0m\u001b[0;34m,\u001b[0m \u001b[0mself\u001b[0m\u001b[0;34m.\u001b[0m\u001b[0mtol\u001b[0m\u001b[0;34m,\u001b[0m \u001b[0mself\u001b[0m\u001b[0;34m.\u001b[0m\u001b[0mrandom_state\u001b[0m\u001b[0;34m,\u001b[0m\u001b[0;34m\u001b[0m\u001b[0;34m\u001b[0m\u001b[0m\n\u001b[0;32m-> 1549\u001b[0;31m                 sample_weight=sample_weight)\n\u001b[0m\u001b[1;32m   1550\u001b[0m             \u001b[0mself\u001b[0m\u001b[0;34m.\u001b[0m\u001b[0mn_iter_\u001b[0m \u001b[0;34m=\u001b[0m \u001b[0mnp\u001b[0m\u001b[0;34m.\u001b[0m\u001b[0marray\u001b[0m\u001b[0;34m(\u001b[0m\u001b[0;34m[\u001b[0m\u001b[0mn_iter_\u001b[0m\u001b[0;34m]\u001b[0m\u001b[0;34m)\u001b[0m\u001b[0;34m\u001b[0m\u001b[0;34m\u001b[0m\u001b[0m\n\u001b[1;32m   1551\u001b[0m             \u001b[0;32mreturn\u001b[0m \u001b[0mself\u001b[0m\u001b[0;34m\u001b[0m\u001b[0;34m\u001b[0m\u001b[0m\n",
      "\u001b[0;32m~/anaconda3/lib/python3.7/site-packages/sklearn/svm/base.py\u001b[0m in \u001b[0;36m_fit_liblinear\u001b[0;34m(X, y, C, fit_intercept, intercept_scaling, class_weight, penalty, dual, verbose, max_iter, tol, random_state, multi_class, loss, epsilon, sample_weight)\u001b[0m\n\u001b[1;32m    919\u001b[0m         \u001b[0mX\u001b[0m\u001b[0;34m,\u001b[0m \u001b[0my_ind\u001b[0m\u001b[0;34m,\u001b[0m \u001b[0msp\u001b[0m\u001b[0;34m.\u001b[0m\u001b[0misspmatrix\u001b[0m\u001b[0;34m(\u001b[0m\u001b[0mX\u001b[0m\u001b[0;34m)\u001b[0m\u001b[0;34m,\u001b[0m \u001b[0msolver_type\u001b[0m\u001b[0;34m,\u001b[0m \u001b[0mtol\u001b[0m\u001b[0;34m,\u001b[0m \u001b[0mbias\u001b[0m\u001b[0;34m,\u001b[0m \u001b[0mC\u001b[0m\u001b[0;34m,\u001b[0m\u001b[0;34m\u001b[0m\u001b[0;34m\u001b[0m\u001b[0m\n\u001b[1;32m    920\u001b[0m         \u001b[0mclass_weight_\u001b[0m\u001b[0;34m,\u001b[0m \u001b[0mmax_iter\u001b[0m\u001b[0;34m,\u001b[0m \u001b[0mrnd\u001b[0m\u001b[0;34m.\u001b[0m\u001b[0mrandint\u001b[0m\u001b[0;34m(\u001b[0m\u001b[0mnp\u001b[0m\u001b[0;34m.\u001b[0m\u001b[0miinfo\u001b[0m\u001b[0;34m(\u001b[0m\u001b[0;34m'i'\u001b[0m\u001b[0;34m)\u001b[0m\u001b[0;34m.\u001b[0m\u001b[0mmax\u001b[0m\u001b[0;34m)\u001b[0m\u001b[0;34m,\u001b[0m\u001b[0;34m\u001b[0m\u001b[0;34m\u001b[0m\u001b[0m\n\u001b[0;32m--> 921\u001b[0;31m         epsilon, sample_weight)\n\u001b[0m\u001b[1;32m    922\u001b[0m     \u001b[0;31m# Regarding rnd.randint(..) in the above signature:\u001b[0m\u001b[0;34m\u001b[0m\u001b[0;34m\u001b[0m\u001b[0;34m\u001b[0m\u001b[0m\n\u001b[1;32m    923\u001b[0m     \u001b[0;31m# seed for srand in range [0..INT_MAX); due to limitations in Numpy\u001b[0m\u001b[0;34m\u001b[0m\u001b[0;34m\u001b[0m\u001b[0;34m\u001b[0m\u001b[0m\n",
      "\u001b[0;31mKeyboardInterrupt\u001b[0m: "
     ]
    }
   ],
   "source": [
    "# Logistic regression, L1 regularization, weighted loss, hyperparameter selection use validation set, macro-weighted score to select model\n",
    "# reason: we assume that some of the variable which is corresponding to the word contribute little to emotion(rating) \n",
    "# and we give more weight to the minor class to remedy for the class imblance. \n",
    "import warnings\n",
    "from matplotlib import pyplot as plt\n",
    "from sklearn.metrics import f1_score\n",
    "from sklearn.metrics import confusion_matrix\n",
    "from sklearn.linear_model import LogisticRegression\n",
    "warnings.filterwarnings(\"ignore\")\n",
    "n_alphas = 76\n",
    "#alphas = np.exp(np.linspace(-5,10,n_alphas))\n",
    "C = np.exp(np.linspace(-5,10,n_alphas))\n",
    "train_score = []\n",
    "val_score = []\n",
    "for i in C:\n",
    "    m = LogisticRegression(penalty='l1',C=i,class_weight='balanced').fit(model_tr, y_train)\n",
    "    s = f1_score(y_val, m.predict(model_val), average='macro')\n",
    "    train_score.append(f1_score(y_train, m.predict(model_tr), average='macro'))\n",
    "    val_score.append(f1_score(y_val, m.predict(model_val), average='macro'))\n",
    "    print ('Val macro score is', s)\n",
    "#plt.plot(np.log10(C),train_score,label='train')\n",
    "#plt.plot(np.log10(C),val_score,label='val')\n",
    "#plt.title('macro score of training set and validation set')\n",
    "#plt.legend()\n",
    "#plt.xlabel('log10(C)')\n",
    "#plt.ylabel('macro score')\n",
    "#plt.show()\n",
    "#-------------------"
   ]
  },
  {
   "cell_type": "code",
   "execution_count": 6,
   "metadata": {},
   "outputs": [
    {
     "data": {
      "image/png": "[encoded data removed]",
      "text/plain": [
       "<Figure size 432x288 with 1 Axes>"
      ]
     },
     "metadata": {
      "needs_background": "light"
     },
     "output_type": "display_data"
    },
    {
     "name": "stdout",
     "output_type": "stream",
     "text": [
      "Best Val macro score is 0.3626043565870517\n",
      "confusion matrix is: \n",
      " [[  26    8   16    3   12]\n",
      " [  16   14   18    8    8]\n",
      " [  22   22   73   54   69]\n",
      " [  23   29  159  369  787]\n",
      " [  37   42  120  400 3205]]\n",
      "recall of each class:\n",
      " [0.4, 0.2188, 0.3042, 0.2699, 0.8425]\n"
     ]
    },
    {
     "data": {
      "text/plain": [
       "['../input/model/logistic_L2.pkl']"
      ]
     },
     "execution_count": 6,
     "metadata": {},
     "output_type": "execute_result"
    }
   ],
   "source": [
    "from sklearn.metrics import confusion_matrix\n",
    "ax = plt.gca()\n",
    "# randomly choose 50 coefficients in the 9676 variables \n",
    "# to plot figure of coefs vs regularizer. \n",
    "ax.plot(C[:len(train_score)], train_score,label='train')\n",
    "ax.plot(C[:len(train_score)], val_score,label='val')\n",
    "ax.set_xscale('log')\n",
    "#ax.set_xlim(ax.get_xlim()[::-1])  # reverse axis\n",
    "plt.xlabel('$L2 regularizer: log_e(C)$')\n",
    "plt.ylabel('macro score')\n",
    "plt.legend()\n",
    "plt.title('macro score of training set and validation set')\n",
    "plt.axis('tight')\n",
    "plt.show()\n",
    "C_opt = C[np.argmax(val_score)]\n",
    "m_opt = LogisticRegression(C=C_opt,class_weight='balanced').fit(model_tr, y_train)\n",
    "s = f1_score(y_val, m_opt.predict(model_val), average='macro')\n",
    "mat = confusion_matrix(y_val, m_opt.predict(model_val))\n",
    "print ('Best Val macro score is', s)\n",
    "print('confusion matrix is: \\n',mat)\n",
    "print('recall of each class:\\n',[round(mat[0,0]/mat[0,:].sum(),4), round(mat[1,1]/mat[1,:].sum(),4),\n",
    "                                  round(mat[2,2]/mat[2,:].sum(),4),round(mat[3,3]/mat[3,:].sum(),4),\n",
    "                                  round(mat[4,4]/mat[4,:].sum(),4)])\n",
    "joblib.dump(m_opt,'../input/model/logistic_L1.pkl')"
   ]
  }
 ],
 "metadata": {
  "kernelspec": {
   "display_name": "Python 3",
   "language": "python",
   "name": "python3"
  },
  "language_info": {
   "codemirror_mode": {
    "name": "ipython",
    "version": 3
   },
   "file_extension": ".py",
   "mimetype": "text/x-python",
   "name": "python",
   "nbconvert_exporter": "python",
   "pygments_lexer": "ipython3",
   "version": "3.7.3"
  }
 },
 "nbformat": 4,
 "nbformat_minor": 2
}
