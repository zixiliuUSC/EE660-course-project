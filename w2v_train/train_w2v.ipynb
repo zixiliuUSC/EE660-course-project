{
 "cells": [
  {
   "cell_type": "code",
   "execution_count": null,
   "metadata": {},
   "outputs": [],
   "source": [
    "\"\"\" Title: Word2Vec Model, Software Framework for Topic Modelling with Large Corpora\n",
    "Author: Radim et ah. and Petr Sojka\n",
    "Date: 2010.5.22\n",
    "Availability: https://radimrehurek.com/gensim/auto_examples/tutorials/run_word2vec.html#sphx-glr-download-auto-examples-tutorials-run-word2vec-py \"\"\"\n",
    "#generate a doc vector by averaging the word2vec vector\n",
    "#use gensim.utils.simple_preprocess function\n",
    "import pandas as pd \n",
    "import numpy as np\n",
    "df_train = pd.read_csv('../input/train.csv')\n",
    "train = df_train['review'].to_numpy()\n",
    "df_y_train = pd.read_csv('../input/y_train.csv')\n",
    "y_train = df_y_train['rate'].to_numpy()\n",
    "df_val = pd.read_csv('../input/val.csv')\n",
    "val = df_val['review'].to_numpy()\n",
    "df_y_val = pd.read_csv('../input/y_val.csv')\n",
    "y_val = df_y_val['rate'].to_numpy()\n",
    "\n",
    "\n",
    "\n",
    "# train word2vec model\n",
    "import logging\n",
    "logging.basicConfig(format='%(asctime)s : %(levelname)s : %(message)s', level=logging.INFO)\n",
    "from gensim.test.utils import datapath\n",
    "from gensim import utils\n",
    "from pathlib import Path\n",
    "\n",
    "class MyCorpus(object):\n",
    "    \"\"\"An interator that yields sentences (lists of str).\"\"\"\n",
    "\n",
    "    def __iter__(self):\n",
    "        corpus_path = Path('../input/train.txt')\n",
    "        for line in open(corpus_path):\n",
    "            # assume there's one document per line, tokens separated by whitespace\n",
    "            yield utils.simple_preprocess(line)\n",
    "\n",
    "import gensim.models\n",
    "sentences = MyCorpus()\n",
    "model = gensim.models.Word2Vec(sentences=sentences, size=50, iter=5)\n",
    "model.save('../embedding/word2vec.model')\n",
    "model = gensim.models.Word2Vec.load('../embedding/word2vec.model')\n",
    "\n",
    "# generate sentence vector for each sentence\n",
    "word_vectors = model.wv\n",
    "len(word_vectors.vocab)\n",
    "for k, seq in enumerate(train):\n",
    "    tokens = gensim.utils.simple_preprocess(seq)\n",
    "    l = 0.\n",
    "    for i in tokens:\n",
    "        if i in word_vectors.vocab: \n",
    "            ave_vec[k] += model.wv[i]\n",
    "            l += 1\n",
    "    ave_vec[k] /= l\n",
    "print(ave_vec.shape)"
   ]
  }
 ],
 "metadata": {
  "kernelspec": {
   "display_name": "Python 3",
   "language": "python",
   "name": "python3"
  },
  "language_info": {
   "codemirror_mode": {
    "name": "ipython",
    "version": 3
   },
   "file_extension": ".py",
   "mimetype": "text/x-python",
   "name": "python",
   "nbconvert_exporter": "python",
   "pygments_lexer": "ipython3",
   "version": "3.7.3"
  }
 },
 "nbformat": 4,
 "nbformat_minor": 2
}
