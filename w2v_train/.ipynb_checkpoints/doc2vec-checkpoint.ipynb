{
 "cells": [
  {
   "cell_type": "code",
   "execution_count": 17,
   "metadata": {},
   "outputs": [
    {
     "name": "stderr",
     "output_type": "stream",
     "text": [
      "2019-11-11 17:23:05,228 : INFO : collecting all words and their counts\n",
      "2019-11-11 17:23:05,229 : INFO : PROGRESS: at example #0, processed 0 words (0/s), 0 word types, 0 tags\n",
      "2019-11-11 17:23:05,295 : INFO : PROGRESS: at example #10000, processed 280389 words (4295279/s), 6861 word types, 10000 tags\n",
      "2019-11-11 17:23:05,367 : INFO : PROGRESS: at example #20000, processed 564365 words (3966948/s), 9431 word types, 20000 tags\n",
      "2019-11-11 17:23:05,387 : INFO : collected 9929 word types and 22159 unique tags from a corpus of 22159 examples and 628177 words\n",
      "2019-11-11 17:23:05,387 : INFO : Loading a fresh vocabulary\n",
      "2019-11-11 17:23:05,402 : INFO : effective_min_count=2 retains 5516 unique words (55% of original 9929, drops 4413)\n",
      "2019-11-11 17:23:05,404 : INFO : effective_min_count=2 leaves 623764 word corpus (99% of original 628177, drops 4413)\n",
      "2019-11-11 17:23:05,423 : INFO : deleting the raw counts dictionary of 9929 items\n",
      "2019-11-11 17:23:05,424 : INFO : sample=0.001 downsamples 70 most-common words\n",
      "2019-11-11 17:23:05,425 : INFO : downsampling leaves estimated 434452 word corpus (69.7% of prior 623764)\n",
      "2019-11-11 17:23:05,444 : INFO : estimated required memory for 5516 words and 100 dimensions: 16034400 bytes\n",
      "2019-11-11 17:23:05,444 : INFO : resetting layer weights\n",
      "2019-11-11 17:23:05,767 : INFO : saving Doc2Vec object under ../input/doc2vec.model, separately None\n",
      "2019-11-11 17:23:05,881 : INFO : saved ../input/doc2vec.model\n"
     ]
    }
   ],
   "source": [
    "%matplotlib inline\n",
    "import logging\n",
    "logging.basicConfig(format='%(asctime)s : %(levelname)s : %(message)s', level=logging.INFO)\n",
    "import gensim\n",
    "# Set file names for train and test data\n",
    "from pathlib import Path\n",
    "\n",
    "lee_train_file = Path('../input/train.txt')\n",
    "lee_test_file = Path('../input/val.txt')\n",
    "import smart_open\n",
    "\n",
    "def read_corpus(fname, tokens_only=False):\n",
    "    with smart_open.open(fname, encoding=\"utf-8\") as f:\n",
    "        for i, line in enumerate(f):\n",
    "            tokens = gensim.utils.simple_preprocess(line)\n",
    "            if tokens_only:\n",
    "                yield tokens\n",
    "            else:\n",
    "                # For training data, add tags\n",
    "                yield gensim.models.doc2vec.TaggedDocument(tokens, [i])\n",
    "\n",
    "train_corpus = list(read_corpus(lee_train_file))\n",
    "val_corpus = list(read_corpus(lee_test_file, tokens_only=True))\n",
    "model_doc2vec = gensim.models.doc2vec.Doc2Vec(vector_size=100, min_count=2, epochs=40)\n",
    "model_doc2vec.build_vocab(train_corpus)\n",
    "model_doc2vec.save('../input/doc2vec.model')"
   ]
  },
  {
   "cell_type": "code",
   "execution_count": 19,
   "metadata": {},
   "outputs": [
    {
     "name": "stderr",
     "output_type": "stream",
     "text": [
      "2019-11-11 17:23:40,034 : INFO : loading Doc2Vec object from ../input/doc2vec.model\n",
      "2019-11-11 17:23:40,168 : INFO : loading vocabulary recursively from ../input/doc2vec.model.vocabulary.* with mmap=None\n",
      "2019-11-11 17:23:40,168 : INFO : loading trainables recursively from ../input/doc2vec.model.trainables.* with mmap=None\n",
      "2019-11-11 17:23:40,169 : INFO : loading wv recursively from ../input/doc2vec.model.wv.* with mmap=None\n",
      "2019-11-11 17:23:40,169 : INFO : loading docvecs recursively from ../input/doc2vec.model.docvecs.* with mmap=None\n",
      "2019-11-11 17:23:40,170 : INFO : loaded ../input/doc2vec.model\n"
     ]
    }
   ],
   "source": [
    "from gensim.models.doc2vec import Doc2Vec, TaggedDocument\n",
    "import pandas as pd \n",
    "import numpy as np\n",
    "df_train = pd.read_csv('../input/train.csv')\n",
    "train = df_train['review'].to_numpy()\n",
    "ave_vec = np.zeros((train.shape[0],100),dtype='float')\n",
    "model1 = Doc2Vec.load('../input/doc2vec.model')\n",
    "for k, seq in enumerate(train):\n",
    "    tokens = gensim.utils.simple_preprocess(seq)\n",
    "    ave_vec[k] = model1.infer_vector(tokens)"
   ]
  },
  {
   "cell_type": "code",
   "execution_count": 20,
   "metadata": {},
   "outputs": [],
   "source": [
    "df_y_train = pd.read_csv('../input/y_train.csv')\n",
    "y_train = df_y_train['rate'].to_numpy()\n",
    "df_val = pd.read_csv('../input/val.csv')\n",
    "val = df_val['review'].to_numpy()\n",
    "df_y_val = pd.read_csv('../input/y_val.csv')\n",
    "y_val = df_y_val['rate'].to_numpy()"
   ]
  },
  {
   "cell_type": "code",
   "execution_count": 21,
   "metadata": {
    "scrolled": true
   },
   "outputs": [
    {
     "name": "stderr",
     "output_type": "stream",
     "text": [
      "2019-11-11 17:24:13,289 : INFO : loading Doc2Vec object from ../input/doc2vec.model\n",
      "2019-11-11 17:24:13,381 : INFO : loading vocabulary recursively from ../input/doc2vec.model.vocabulary.* with mmap=None\n",
      "2019-11-11 17:24:13,382 : INFO : loading trainables recursively from ../input/doc2vec.model.trainables.* with mmap=None\n",
      "2019-11-11 17:24:13,383 : INFO : loading wv recursively from ../input/doc2vec.model.wv.* with mmap=None\n",
      "2019-11-11 17:24:13,383 : INFO : loading docvecs recursively from ../input/doc2vec.model.docvecs.* with mmap=None\n",
      "2019-11-11 17:24:13,384 : INFO : loaded ../input/doc2vec.model\n"
     ]
    }
   ],
   "source": [
    "ave_vec_val = np.zeros((val.shape[0],100),dtype='float')\n",
    "model1 = Doc2Vec.load('../input/doc2vec.model')\n",
    "for k, seq in enumerate(val):\n",
    "    tokens = gensim.utils.simple_preprocess(seq)\n",
    "    ave_vec_val[k] = model1.infer_vector(tokens)"
   ]
  },
  {
   "cell_type": "code",
   "execution_count": 35,
   "metadata": {},
   "outputs": [
    {
     "name": "stderr",
     "output_type": "stream",
     "text": [
      "C:\\Users\\Ou Zixi\\Anaconda3\\lib\\site-packages\\sklearn\\linear_model\\logistic.py:433: FutureWarning: Default solver will be changed to 'lbfgs' in 0.22. Specify a solver to silence this warning.\n",
      "  FutureWarning)\n",
      "C:\\Users\\Ou Zixi\\Anaconda3\\lib\\site-packages\\sklearn\\linear_model\\logistic.py:460: FutureWarning: Default multi_class will be changed to 'auto' in 0.22. Specify the multi_class option to silence this warning.\n",
      "  \"this warning.\", FutureWarning)\n"
     ]
    },
    {
     "name": "stdout",
     "output_type": "stream",
     "text": [
      "Test score is 0.6866425992779783\n"
     ]
    },
    {
     "data": {
      "text/plain": [
       "array([[   0,    0,    0,    0,   65],\n",
       "       [   0,    0,    0,    0,   64],\n",
       "       [   0,    0,    0,    0,  240],\n",
       "       [   0,    0,    0,    0, 1367],\n",
       "       [   0,    0,    0,    0, 3804]], dtype=int64)"
      ]
     },
     "execution_count": 35,
     "metadata": {},
     "output_type": "execute_result"
    }
   ],
   "source": [
    "from sklearn.linear_model import LogisticRegression\n",
    "m = LogisticRegression(class_weight='balanced').fit(ave_vec, y_train)\n",
    "s = m.score(ave_vec_val, y_val)\n",
    "print ('Test score is', s)\n",
    "from sklearn.metrics import confusion_matrix\n",
    "confusion_matrix(y_val, clf.predict(np.exp(ave_vec_val)))"
   ]
  },
  {
   "cell_type": "code",
   "execution_count": 27,
   "metadata": {
    "collapsed": true
   },
   "outputs": [
    {
     "name": "stderr",
     "output_type": "stream",
     "text": [
      "C:\\Users\\Ou Zixi\\Anaconda3\\lib\\site-packages\\sklearn\\linear_model\\logistic.py:433: FutureWarning: Default solver will be changed to 'lbfgs' in 0.22. Specify a solver to silence this warning.\n",
      "  FutureWarning)\n",
      "C:\\Users\\Ou Zixi\\Anaconda3\\lib\\site-packages\\sklearn\\linear_model\\logistic.py:460: FutureWarning: Default multi_class will be changed to 'auto' in 0.22. Specify the multi_class option to silence this warning.\n",
      "  \"this warning.\", FutureWarning)\n"
     ]
    },
    {
     "name": "stdout",
     "output_type": "stream",
     "text": [
      "Test score is 0.011732851985559567\n"
     ]
    },
    {
     "name": "stderr",
     "output_type": "stream",
     "text": [
      "C:\\Users\\Ou Zixi\\Anaconda3\\lib\\site-packages\\sklearn\\linear_model\\logistic.py:433: FutureWarning: Default solver will be changed to 'lbfgs' in 0.22. Specify a solver to silence this warning.\n",
      "  FutureWarning)\n",
      "C:\\Users\\Ou Zixi\\Anaconda3\\lib\\site-packages\\sklearn\\linear_model\\logistic.py:460: FutureWarning: Default multi_class will be changed to 'auto' in 0.22. Specify the multi_class option to silence this warning.\n",
      "  \"this warning.\", FutureWarning)\n"
     ]
    },
    {
     "name": "stdout",
     "output_type": "stream",
     "text": [
      "Test score is 0.6866425992779783\n"
     ]
    },
    {
     "name": "stderr",
     "output_type": "stream",
     "text": [
      "C:\\Users\\Ou Zixi\\Anaconda3\\lib\\site-packages\\sklearn\\linear_model\\logistic.py:433: FutureWarning: Default solver will be changed to 'lbfgs' in 0.22. Specify a solver to silence this warning.\n",
      "  FutureWarning)\n",
      "C:\\Users\\Ou Zixi\\Anaconda3\\lib\\site-packages\\sklearn\\linear_model\\logistic.py:460: FutureWarning: Default multi_class will be changed to 'auto' in 0.22. Specify the multi_class option to silence this warning.\n",
      "  \"this warning.\", FutureWarning)\n"
     ]
    },
    {
     "name": "stdout",
     "output_type": "stream",
     "text": [
      "Test score is 0.6866425992779783\n"
     ]
    },
    {
     "name": "stderr",
     "output_type": "stream",
     "text": [
      "C:\\Users\\Ou Zixi\\Anaconda3\\lib\\site-packages\\sklearn\\linear_model\\logistic.py:433: FutureWarning: Default solver will be changed to 'lbfgs' in 0.22. Specify a solver to silence this warning.\n",
      "  FutureWarning)\n",
      "C:\\Users\\Ou Zixi\\Anaconda3\\lib\\site-packages\\sklearn\\linear_model\\logistic.py:460: FutureWarning: Default multi_class will be changed to 'auto' in 0.22. Specify the multi_class option to silence this warning.\n",
      "  \"this warning.\", FutureWarning)\n"
     ]
    },
    {
     "name": "stdout",
     "output_type": "stream",
     "text": [
      "Test score is 0.6866425992779783\n"
     ]
    },
    {
     "name": "stderr",
     "output_type": "stream",
     "text": [
      "C:\\Users\\Ou Zixi\\Anaconda3\\lib\\site-packages\\sklearn\\linear_model\\logistic.py:433: FutureWarning: Default solver will be changed to 'lbfgs' in 0.22. Specify a solver to silence this warning.\n",
      "  FutureWarning)\n",
      "C:\\Users\\Ou Zixi\\Anaconda3\\lib\\site-packages\\sklearn\\linear_model\\logistic.py:460: FutureWarning: Default multi_class will be changed to 'auto' in 0.22. Specify the multi_class option to silence this warning.\n",
      "  \"this warning.\", FutureWarning)\n"
     ]
    },
    {
     "name": "stdout",
     "output_type": "stream",
     "text": [
      "Test score is 0.6682310469314079\n"
     ]
    },
    {
     "name": "stderr",
     "output_type": "stream",
     "text": [
      "C:\\Users\\Ou Zixi\\Anaconda3\\lib\\site-packages\\sklearn\\linear_model\\logistic.py:433: FutureWarning: Default solver will be changed to 'lbfgs' in 0.22. Specify a solver to silence this warning.\n",
      "  FutureWarning)\n",
      "C:\\Users\\Ou Zixi\\Anaconda3\\lib\\site-packages\\sklearn\\linear_model\\logistic.py:460: FutureWarning: Default multi_class will be changed to 'auto' in 0.22. Specify the multi_class option to silence this warning.\n",
      "  \"this warning.\", FutureWarning)\n"
     ]
    },
    {
     "name": "stdout",
     "output_type": "stream",
     "text": [
      "Test score is 0.6518050541516246\n"
     ]
    }
   ],
   "source": [
    "C = [1e-5, 1e-3, 1e-1, 1e0, 1e1, 1e2]\n",
    "for i in C:\n",
    "    m = LogisticRegression(penalty='l1',C=i, class_weight='balanced').fit(ave_vec, y_train)\n",
    "    s = m.score(ave_vec_val, y_val)\n",
    "    print ('Test score is', s)"
   ]
  },
  {
   "cell_type": "code",
   "execution_count": 29,
   "metadata": {
    "scrolled": false
   },
   "outputs": [
    {
     "name": "stdout",
     "output_type": "stream",
     "text": [
      "Test score is 0.6866425992779783\n"
     ]
    }
   ],
   "source": [
    "from sklearn.naive_bayes import GaussianNB\n",
    "clf = GaussianNB()\n",
    "clf.fit(ave_vec, y_train)\n",
    "print ('Test score is', clf.score(ave_vec_val, y_val))"
   ]
  },
  {
   "cell_type": "code",
   "execution_count": 33,
   "metadata": {},
   "outputs": [
    {
     "name": "stdout",
     "output_type": "stream",
     "text": [
      "Test score is 0.6866425992779783\n"
     ]
    },
    {
     "data": {
      "text/plain": [
       "array([[   0,    0,    0,    0,   65],\n",
       "       [   0,    0,    0,    0,   64],\n",
       "       [   0,    0,    0,    0,  240],\n",
       "       [   0,    0,    0,    0, 1367],\n",
       "       [   0,    0,    0,    0, 3804]], dtype=int64)"
      ]
     },
     "execution_count": 33,
     "metadata": {},
     "output_type": "execute_result"
    }
   ],
   "source": [
    "from sklearn.naive_bayes import MultinomialNB\n",
    "clf = MultinomialNB()\n",
    "clf.fit(np.exp(ave_vec), y_train)\n",
    "print ('Test score is', clf.score(np.exp(ave_vec_val), y_val))\n",
    "from sklearn.metrics import confusion_matrix\n",
    "confusion_matrix(y_val, clf.predict(np.exp(ave_vec_val)))"
   ]
  }
 ],
 "metadata": {
  "kernelspec": {
   "display_name": "Python 3",
   "language": "python",
   "name": "python3"
  },
  "language_info": {
   "codemirror_mode": {
    "name": "ipython",
    "version": 3
   },
   "file_extension": ".py",
   "mimetype": "text/x-python",
   "name": "python",
   "nbconvert_exporter": "python",
   "pygments_lexer": "ipython3",
   "version": "3.7.3"
  }
 },
 "nbformat": 4,
 "nbformat_minor": 2
}
